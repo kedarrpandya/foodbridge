{
  "cells": [
    {
      "cell_type": "code",
      "execution_count": null,
      "metadata": {
        "vscode": {
          "languageId": "plaintext"
        }
      },
      "outputs": [],
      "source": [
        "# FoodBridge - EDA and Baseline Models\n",
        "\n",
        "This notebook explores the dataset exported from the API and trains baseline models for spoilage risk and forecasts.\n"
      ]
    },
    {
      "cell_type": "code",
      "execution_count": null,
      "metadata": {},
      "outputs": [],
      "source": [
        "import pandas as pd, numpy as np\n",
        "from pathlib import Path\n",
        "import requests, os, json\n",
        "\n",
        "API = os.getenv('API_BASE', 'http://127.0.0.1:8000/api/v1')\n",
        "\n",
        "# Helper to fetch endpoints\n",
        "def fetch(path, **params):\n",
        "    r = requests.get(f'{API}{path}', params=params)\n",
        "    r.raise_for_status()\n",
        "    return r.json()\n",
        "\n",
        "summary = fetch('/analytics/summary')\n",
        "series = fetch('/analytics/series', days=60)\n",
        "categories = fetch('/analytics/categories', days=60)\n",
        "risk = fetch('/analytics/risk', limit=50)\n",
        "summary, list(series.keys()), list(categories.keys()), list(risk.keys())\n"
      ]
    },
    {
      "cell_type": "markdown",
      "metadata": {},
      "source": [
        "## Build training data\n",
        "We derive features for spoilage risk prediction.\n"
      ]
    },
    {
      "cell_type": "code",
      "execution_count": null,
      "metadata": {},
      "outputs": [],
      "source": [
        "# Example: create a dataset from items endpoint (extend backend to export if needed)\n",
        "items = []  # TODO: implement /items/export for larger datasets\n",
        "\n",
        "# Placeholder feature engineering\n",
        "df = pd.DataFrame(items)\n",
        "if not df.empty:\n",
        "    df['hours_to_expiry'] = (pd.to_datetime(df['expires_at']) - pd.Timestamp.utcnow()).dt.total_seconds()/3600\n",
        "    df['is_claimed'] = (df['status'] == 'claimed').astype(int)\n",
        "    df['quantity'] = df['quantity'].fillna(0)\n",
        "    display(df.head())\n",
        "else:\n",
        "    print('No items fetched yet; implement /items/export or populate DB.')\n"
      ]
    },
    {
      "cell_type": "markdown",
      "metadata": {},
      "source": [
        "## Baseline spoilage risk model\n",
        "Train a simple logistic regression.\n"
      ]
    },
    {
      "cell_type": "code",
      "execution_count": null,
      "metadata": {},
      "outputs": [],
      "source": [
        "# from sklearn.model_selection import train_test_split\n",
        "# from sklearn.linear_model import LogisticRegression\n",
        "# from sklearn.metrics import roc_auc_score, classification_report\n",
        "# \n",
        "# if not df.empty:\n",
        "#     X = df[['hours_to_expiry', 'quantity']].fillna(0)\n",
        "#     y = df['is_claimed']\n",
        "#     X_train, X_test, y_train, y_test = train_test_split(X, y, test_size=0.2, random_state=42)\n",
        "#     model = LogisticRegression(max_iter=200).fit(X_train, y_train)\n",
        "#     pred = model.predict_proba(X_test)[:,1]\n",
        "#     print('AUC:', roc_auc_score(y_test, pred))\n",
        "#     print(classification_report(y_test, pred>0.5))\n",
        "# else:\n",
        "#     print('Dataset empty.')\n"
      ]
    }
  ],
  "metadata": {
    "language_info": {
      "name": "python"
    }
  },
  "nbformat": 4,
  "nbformat_minor": 2
}
